{
 "cells": [
  {
   "cell_type": "code",
   "execution_count": 12,
   "id": "69b9fdb0-8683-461e-b153-b7f71c69ac41",
   "metadata": {},
   "outputs": [
    {
     "name": "stdin",
     "output_type": "stream",
     "text": [
      "Vehicle Type (car, truck, plane, boat, broomstick):  car\n",
      "Enter the year (4 digits):  2006\n",
      "Enter the make:  toyota\n",
      "Enter the model:  camry\n",
      "Enter the number of doors (2 or 4):  3\n"
     ]
    },
    {
     "name": "stdout",
     "output_type": "stream",
     "text": [
      "Error - please enter '2' or '4'.\n"
     ]
    },
    {
     "name": "stdin",
     "output_type": "stream",
     "text": [
      "Enter the number of doors (2 or 4):  2\n",
      "Enter the type of roof (solid or sun roof):  solid\n"
     ]
    },
    {
     "name": "stdout",
     "output_type": "stream",
     "text": [
      "\n",
      "Vehicle Information\n",
      "Vehicle type: car\n",
      "Year: 2006\n",
      "Make: toyota\n",
      "Model: camry\n",
      "Number of doors: 2\n",
      "Type of roof: solid\n"
     ]
    }
   ],
   "source": [
    "# Superclass !\n",
    "class Vehicle:\n",
    "    def __init__(self, vehicle_type):\n",
    "        self.vehicle_type = vehicle_type\n",
    "\n",
    "class Automobile(Vehicle):\n",
    "    def __init__(self, vehicle_type, year, make, model, doors, roof):\n",
    "        super().__init__(vehicle_type)\n",
    "        self.year = year\n",
    "        self.make = make\n",
    "        self.model = model\n",
    "        self.doors = doors\n",
    "        self.roof = roof\n",
    "\n",
    "def main():\n",
    "   \n",
    "    while True:\n",
    "        vehicle = input(\"Vehicle Type (car, truck, plane, boat, broomstick): \").lower()\n",
    "        if vehicle in [\"car\", \"truck\", \"plane\", \"boat\", \"broomstick\"]:\n",
    "            break\n",
    "        else:\n",
    "            print(\"Error - please input 'car', 'truck', 'plane', 'boat', or 'broomstick'.\")\n",
    "\n",
    "    \n",
    "    while True:\n",
    "        year = input(\"Enter the year: \")\n",
    "        if year.isdigit() and len(year) == 4:\n",
    "            break\n",
    "        else:\n",
    "            print(\"Error - please enter a valid 4-digit year.\")\n",
    "\n",
    "    make = input(\"Enter the make: \")\n",
    "    model = input(\"Enter the model: \")\n",
    "\n",
    "    while True:\n",
    "        doors = input(\"Enter the number of doors (2 or 4): \")\n",
    "        if doors.isdigit() and int(doors) in [2, 4]:\n",
    "            doors = int(doors) \n",
    "            break\n",
    "        else:\n",
    "            print(\"Error - please enter '2' or '4'.\")\n",
    "\n",
    "    while True:\n",
    "        roof = input(\"Enter the type of roof (solid or sun roof): \").lower()\n",
    "        if roof in [\"solid\", \"sun roof\"]:\n",
    "            break\n",
    "        else:\n",
    "            print(\"Error - please input 'solid' or 'sun roof'.\")\n",
    "\n",
    "    car = Automobile(vehicle, year, make, model, doors, roof)\n",
    "    print(\"\\nVehicle Information\")\n",
    "    print(\"Vehicle type:\", car.vehicle_type)\n",
    "    print(\"Year:\", car.year)\n",
    "    print(\"Make:\", car.make)\n",
    "    print(\"Model:\", car.model)\n",
    "    print(\"Number of doors:\", car.doors)\n",
    "    print(\"Type of roof:\", car.roof)\n",
    "\n",
    "if __name__ == \"__main__\":\n",
    "    main()"
   ]
  },
  {
   "cell_type": "code",
   "execution_count": null,
   "id": "995a641c-4ed1-44a6-9b31-1496b9d7185d",
   "metadata": {},
   "outputs": [],
   "source": []
  }
 ],
 "metadata": {
  "kernelspec": {
   "display_name": "Python 3 (ipykernel)",
   "language": "python",
   "name": "python3"
  },
  "language_info": {
   "codemirror_mode": {
    "name": "ipython",
    "version": 3
   },
   "file_extension": ".py",
   "mimetype": "text/x-python",
   "name": "python",
   "nbconvert_exporter": "python",
   "pygments_lexer": "ipython3",
   "version": "3.11.7"
  }
 },
 "nbformat": 4,
 "nbformat_minor": 5
}
